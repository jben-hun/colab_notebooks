{
  "nbformat": 4,
  "nbformat_minor": 0,
  "metadata": {
    "colab": {
      "name": "breadthDepthCommentTraversal.ipynb",
      "provenance": [],
      "collapsed_sections": [],
      "authorship_tag": "ABX9TyM95EVO4LgBiIUyVR2BMHH+",
      "include_colab_link": true
    },
    "kernelspec": {
      "name": "python3",
      "display_name": "Python 3"
    }
  },
  "cells": [
    {
      "cell_type": "markdown",
      "metadata": {
        "id": "view-in-github",
        "colab_type": "text"
      },
      "source": [
        "<a href=\"https://colab.research.google.com/github/jben-hun/colab_notebooks/blob/master/algorithms/breadthDepthCommentTraversal.ipynb\" target=\"_parent\"><img src=\"https://colab.research.google.com/assets/colab-badge.svg\" alt=\"Open In Colab\"/></a>"
      ]
    },
    {
      "cell_type": "markdown",
      "metadata": {
        "id": "SUADzDvEaKDl"
      },
      "source": [
        "# Reddit comment traversal\n",
        "Implementing breadth- and depth-first traversal and using them to fetch all comments from a reddit comment forest\n",
        "\n"
      ]
    },
    {
      "cell_type": "code",
      "metadata": {
        "id": "1vaTqr7Hlu0x",
        "outputId": "7ae981e0-5cde-460a-fd79-d50afcc96691",
        "colab": {
          "base_uri": "https://localhost:8080/",
          "height": 54
        }
      },
      "source": [
        "!pip install -q praw\n",
        "\n",
        "import praw\n",
        "from collections import deque\n",
        "\n",
        "client_id = \"\" #@param {type:\"string\"}\n",
        "client_secret = \"\" #@param {type:\"string\"}\n",
        "user_agent = \"\" #@param {type:\"string\"}\n",
        "\n",
        "reddit = praw.Reddit(\n",
        "    client_id=client_id,\n",
        "    client_secret=client_secret,\n",
        "    user_agent=user_agent)"
      ],
      "execution_count": 1,
      "outputs": [
        {
          "output_type": "stream",
          "text": [
            "\u001b[K     |████████████████████████████████| 153kB 2.7MB/s \n",
            "\u001b[K     |████████████████████████████████| 204kB 5.1MB/s \n",
            "\u001b[?25h"
          ],
          "name": "stdout"
        }
      ]
    },
    {
      "cell_type": "code",
      "metadata": {
        "id": "Y6wGe8WglK8w"
      },
      "source": [
        "def traverse_comments(comments, *, breadth_first=False):\n",
        "    queue = deque(comments[:])\n",
        "    result = []\n",
        "    while queue:\n",
        "        e = queue.pop()\n",
        "        if isinstance(e, praw.models.MoreComments):\n",
        "            if breadth_first:\n",
        "                queue.extendleft(e.comments())\n",
        "            else:\n",
        "                queue.extend(e.comments())\n",
        "        else:\n",
        "            if breadth_first:\n",
        "                queue.extendleft(e.replies)\n",
        "            else:\n",
        "                queue.extend(e.replies)\n",
        "            result.append(e.body)\n",
        "    return result"
      ],
      "execution_count": 2,
      "outputs": []
    },
    {
      "cell_type": "markdown",
      "metadata": {
        "id": "OKBZboFXiyaa"
      },
      "source": [
        "**Supply a subreddit url**\n",
        "\n",
        "Preferably an archived one, so the comments will not change during operation"
      ]
    },
    {
      "cell_type": "code",
      "metadata": {
        "id": "P7LJFb1KiyeJ",
        "cellView": "both"
      },
      "source": [
        "submission_url = \"https://www.reddit.com/r/aww/comments/fo6q11/his_favorite_place_is_his_bed/\" #@param {type:\"string\"}"
      ],
      "execution_count": 3,
      "outputs": []
    },
    {
      "cell_type": "markdown",
      "metadata": {
        "id": "D7hqOieGZ4I8"
      },
      "source": [
        "**Our depth-first traversal**"
      ]
    },
    {
      "cell_type": "code",
      "metadata": {
        "id": "-iLW1KsnaIPN",
        "outputId": "5bba027a-32b4-4fc7-b888-f9c90fad598b",
        "colab": {
          "base_uri": "https://localhost:8080/",
          "height": 54
        }
      },
      "source": [
        "%time\n",
        "comments_depthfirst = set(traverse_comments(\n",
        "    reddit.submission(url=submission_url).comments))"
      ],
      "execution_count": 4,
      "outputs": [
        {
          "output_type": "stream",
          "text": [
            "CPU times: user 4 µs, sys: 1 µs, total: 5 µs\n",
            "Wall time: 8.58 µs\n"
          ],
          "name": "stdout"
        }
      ]
    },
    {
      "cell_type": "markdown",
      "metadata": {
        "id": "UFacbGDkZ6lV"
      },
      "source": [
        "**Our breadth-first traversal**"
      ]
    },
    {
      "cell_type": "code",
      "metadata": {
        "id": "Nar5wXD-Z9fk",
        "outputId": "cc84e8e9-5da2-4783-bc3a-41b6182ae900",
        "colab": {
          "base_uri": "https://localhost:8080/",
          "height": 54
        }
      },
      "source": [
        "%time\n",
        "comments_breadthfirst = set(traverse_comments(\n",
        "    reddit.submission(url=submission_url).comments, breadth_first=True))"
      ],
      "execution_count": 5,
      "outputs": [
        {
          "output_type": "stream",
          "text": [
            "CPU times: user 2 µs, sys: 1e+03 ns, total: 3 µs\n",
            "Wall time: 5.25 µs\n"
          ],
          "name": "stdout"
        }
      ]
    },
    {
      "cell_type": "markdown",
      "metadata": {
        "id": "A5dMpgVB8geQ"
      },
      "source": [
        "**Built-in breadth-first traversal**"
      ]
    },
    {
      "cell_type": "code",
      "metadata": {
        "id": "SChD-dGMaI7M",
        "outputId": "86bd8b44-e081-4831-f7ff-1f7dfd769c8a",
        "colab": {
          "base_uri": "https://localhost:8080/",
          "height": 54
        }
      },
      "source": [
        "%time\n",
        "submission = reddit.submission(url=submission_url)\n",
        "submission.comments.replace_more(limit=None)\n",
        "comments_builtin = set([comment.body for comment in submission.comments.list()])"
      ],
      "execution_count": 6,
      "outputs": [
        {
          "output_type": "stream",
          "text": [
            "CPU times: user 3 µs, sys: 0 ns, total: 3 µs\n",
            "Wall time: 6.68 µs\n"
          ],
          "name": "stdout"
        }
      ]
    },
    {
      "cell_type": "markdown",
      "metadata": {
        "id": "pylhuvat9nTo"
      },
      "source": [
        "**Result validation**"
      ]
    },
    {
      "cell_type": "code",
      "metadata": {
        "id": "ZnJIvTgp7BjH",
        "outputId": "0bc97794-4166-48df-f2f5-e7ff7ef68abc",
        "colab": {
          "base_uri": "https://localhost:8080/",
          "height": 35
        }
      },
      "source": [
        "print(\"Results are equivalent:\",\n",
        "      comments_depthfirst ==\n",
        "      comments_breadthfirst ==\n",
        "      comments_builtin)"
      ],
      "execution_count": 7,
      "outputs": [
        {
          "output_type": "stream",
          "text": [
            "Results are equivalent: True\n"
          ],
          "name": "stdout"
        }
      ]
    },
    {
      "cell_type": "markdown",
      "metadata": {
        "id": "UIOnwZvQbnqH"
      },
      "source": [
        "# References"
      ]
    },
    {
      "cell_type": "markdown",
      "metadata": {
        "id": "7fUFreHgb_w3"
      },
      "source": [
        "*   https://praw.readthedocs.io/en/latest/tutorials/comments.html\n",
        "*   https://en.wikipedia.org/wiki/Depth-first_search\n",
        "*   https://en.wikipedia.org/wiki/Breadth-first_search"
      ]
    }
  ]
}