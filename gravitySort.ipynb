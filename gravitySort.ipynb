{
  "nbformat": 4,
  "nbformat_minor": 0,
  "metadata": {
    "colab": {
      "name": "gravitySort",
      "provenance": [],
      "collapsed_sections": [],
      "authorship_tag": "ABX9TyO8QVU5YcGRdUnUHWaHBMCa",
      "include_colab_link": true
    },
    "kernelspec": {
      "name": "python3",
      "display_name": "Python 3"
    }
  },
  "cells": [
    {
      "cell_type": "markdown",
      "metadata": {
        "id": "view-in-github",
        "colab_type": "text"
      },
      "source": [
        "<a href=\"https://colab.research.google.com/github/jben-hun/colab_notebooks/blob/master/gravitySort.ipynb\" target=\"_parent\"><img src=\"https://colab.research.google.com/assets/colab-badge.svg\" alt=\"Open In Colab\"/></a>"
      ]
    },
    {
      "cell_type": "markdown",
      "metadata": {
        "id": "lahK25BIci9k"
      },
      "source": [
        "**Gravity Sort**\n",
        "\n",
        "Gravity sort, a.k.a. bead sort is a fun sorting method for positive integers. The area of interest of this algorithm is hardware supported \"bead dropping\" to fill the role of gravity, which makes it work fast in theory. Extending to negative integers is straightforward by shifting the values to $\\mathbb{N}_0$ before sorting.\n",
        "\n",
        "Complexity:\n",
        "*   Time: $\\mathcal{O}(n*m)$\n",
        "*   Space: $\\mathcal{O}(n*m)$, or $\\mathcal{O}(n+m)$ in memory conservative mode\n",
        "\n",
        "Where $n$ is the number of values and $m$ is the maximal value of the array."
      ]
    },
    {
      "cell_type": "markdown",
      "metadata": {
        "id": "3VBHiDFwcda1"
      },
      "source": [
        "**Definition**"
      ]
    },
    {
      "cell_type": "code",
      "metadata": {
        "id": "6d8kz0dShT4m"
      },
      "source": [
        "import numpy as np\n",
        "import matplotlib.pyplot as plt\n",
        "import seaborn as sns\n",
        "sns.set(style=\"whitegrid\")\n",
        "\n",
        "unsorted = np.random.randint(0, 10, 10)\n",
        "\n",
        "def is_monotone(x, *, decreasing=False, strict=False):\n",
        "    a = x[1:]\n",
        "    b = x[:-1]\n",
        "\n",
        "    if decreasing:\n",
        "        if strict:\n",
        "            return np.all(a<b)\n",
        "        else:\n",
        "            return np.all(a<=b)\n",
        "    else:\n",
        "        if strict:\n",
        "            return np.all(a>b)\n",
        "        else:\n",
        "            return np.all(a>=b)\n",
        "\n",
        "def gravity_sort(x, *, reverse=False, memory_conservative=False):\n",
        "    length = len(x)\n",
        "    maximum = x.max()\n",
        "\n",
        "    if memory_conservative:\n",
        "        sums = np.zeros(maximum, int)\n",
        "        for i in range(length):\n",
        "            sums[:x[i]] += 1\n",
        "\n",
        "        sums_old = sums.copy()\n",
        "        sums = np.zeros(length, int)\n",
        "        for i in range(maximum):\n",
        "            sums[:sums_old[i]] += 1\n",
        "\n",
        "    else:\n",
        "        a = np.arange(maximum)[np.newaxis, :] < x[:, np.newaxis]\n",
        "        sums = a.sum(axis=0, dtype=int)\n",
        "\n",
        "        a = np.arange(length)[:, np.newaxis] < sums[np.newaxis, :]\n",
        "        sums = a.sum(axis=1, dtype=int)\n",
        "\n",
        "    if not reverse:\n",
        "        sums = sums[::-1]\n",
        "\n",
        "    return sums"
      ],
      "execution_count": null,
      "outputs": []
    },
    {
      "cell_type": "markdown",
      "metadata": {
        "id": "h87a6QYJbqjP"
      },
      "source": [
        "**Demonstration**\n",
        "\n",
        "Comparing with NumPy's built-in sorter"
      ]
    },
    {
      "cell_type": "code",
      "metadata": {
        "id": "38yVYr2zJHir",
        "colab": {
          "base_uri": "https://localhost:8080/"
        },
        "outputId": "0e3e645f-37a3-4110-ac4a-04ace29b8868"
      },
      "source": [
        "%timeit np.sort(unsorted)\n",
        "%timeit gravity_sort(unsorted)\n",
        "%timeit gravity_sort(unsorted, memory_conservative=True)\n",
        "\n",
        "sorted = np.sort(unsorted)\n",
        "gravity_sorted = gravity_sort(unsorted)\n",
        "gravity_sorted_conservative = gravity_sort(unsorted, memory_conservative=True)\n",
        "\n",
        "print(unsorted)\n",
        "print(sorted)\n",
        "print(gravity_sorted)\n",
        "print(gravity_sorted_conservative)\n",
        "print(is_monotone(unsorted))\n",
        "print(is_monotone(sorted))\n",
        "print(is_monotone(gravity_sorted))\n",
        "print(is_monotone(gravity_sorted_conservative))"
      ],
      "execution_count": null,
      "outputs": [
        {
          "output_type": "stream",
          "text": [
            "The slowest run took 22.84 times longer than the fastest. This could mean that an intermediate result is being cached.\n",
            "100000 loops, best of 3: 2.25 µs per loop\n",
            "The slowest run took 12.49 times longer than the fastest. This could mean that an intermediate result is being cached.\n",
            "10000 loops, best of 3: 19.2 µs per loop\n",
            "10000 loops, best of 3: 44.9 µs per loop\n",
            "[4 0 9 6 0 1 4 9 1 0]\n",
            "[0 0 0 1 1 4 4 6 9 9]\n",
            "[0 0 0 1 1 4 4 6 9 9]\n",
            "[0 0 0 1 1 4 4 6 9 9]\n",
            "False\n",
            "True\n",
            "True\n",
            "True\n"
          ],
          "name": "stdout"
        }
      ]
    },
    {
      "cell_type": "markdown",
      "metadata": {
        "id": "1tzP3iFLbxjN"
      },
      "source": [
        "**Visualization**\n",
        "\n",
        "Plotting the \"gravity-shifted\" values with Matplotlib"
      ]
    },
    {
      "cell_type": "code",
      "metadata": {
        "id": "Jdy91FZTEN1J",
        "colab": {
          "base_uri": "https://localhost:8080/",
          "height": 339
        },
        "outputId": "acccd548-bd4d-4606-a606-db9736495340"
      },
      "source": [
        "# copy of input\n",
        "x = unsorted.copy()\n",
        "\n",
        "# the sort\n",
        "length = len(x)\n",
        "maximum = x.max()\n",
        "\n",
        "a = np.arange(maximum)[np.newaxis, :] < x[:, np.newaxis]\n",
        "sums = a.sum(axis=0, dtype=int)\n",
        "\n",
        "a = np.arange(length)[:, np.newaxis] < sums[np.newaxis, :]\n",
        "sums = a.sum(axis=1, dtype=int)\n",
        "\n",
        "# plot\n",
        "fig, axs = plt.subplots(1, 2, figsize=(10, 5), sharex=True, sharey=True)\n",
        "plt.xticks(range(maximum), labels=range(1, maximum + 1))\n",
        "plt.yticks(range(length))\n",
        "plt.xlim(-1, maximum)\n",
        "plt.ylim(-1, length)\n",
        "for ax in axs:\n",
        "    ax.set_xlabel('magnitude')\n",
        "    ax.set_ylabel('index')\n",
        "for i in range(length):\n",
        "    axs[0].scatter(np.arange(x[i]), np.full(x[i], i))\n",
        "for i in range(length):\n",
        "    axs[1].scatter(np.arange(sums[i]), np.full(sums[i], i))\n",
        "\n",
        "plt.show()"
      ],
      "execution_count": null,
      "outputs": [
        {
          "output_type": "display_data",
          "data": {
            "image/png": "[encoded data removed]",
            "text/plain": [
              "<Figure size 720x360 with 2 Axes>"
            ]
          },
          "metadata": {
            "tags": [],
            "needs_background": "light"
          }
        }
      ]
    },
    {
      "cell_type": "markdown",
      "metadata": {
        "id": "UTf4Q03OWxMv"
      },
      "source": [
        "**References**\n",
        "*   https://en.wikipedia.org/wiki/Bead_sort"
      ]
    }
  ]
}