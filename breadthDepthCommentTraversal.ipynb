{
  "nbformat": 4,
  "nbformat_minor": 0,
  "metadata": {
    "colab": {
      "name": "breadthDepthCommentTraversal.ipynb",
      "provenance": [],
      "collapsed_sections": [],
      "authorship_tag": "ABX9TyMOlnphnB3T/5Tg0AUG1YEd",
      "include_colab_link": true
    },
    "kernelspec": {
      "name": "python3",
      "display_name": "Python 3"
    }
  },
  "cells": [
    {
      "cell_type": "markdown",
      "metadata": {
        "id": "view-in-github",
        "colab_type": "text"
      },
      "source": [
        "<a href=\"https://colab.research.google.com/github/jben-hun/colab_notebooks/blob/master/breadthDepthCommentTraversal.ipynb\" target=\"_parent\"><img src=\"https://colab.research.google.com/assets/colab-badge.svg\" alt=\"Open In Colab\"/></a>"
      ]
    },
    {
      "cell_type": "markdown",
      "metadata": {
        "id": "SUADzDvEaKDl"
      },
      "source": [
        "# Reddit comment traversal\n",
        "Implementing breadth- and depth-first traversal and using them to fetch all comments from a reddit comment forest\n",
        "\n"
      ]
    },
    {
      "cell_type": "markdown",
      "metadata": {
        "id": "suUFhA7KfDsU"
      },
      "source": [
        "PRAW is used to interact with the reddit api, a reddit account and a registered app is required for usage, to get started:\r\n",
        "*   https://praw.readthedocs.io/en/latest/getting_started/quick_start.html"
      ]
    },
    {
      "cell_type": "code",
      "metadata": {
        "id": "1vaTqr7Hlu0x",
        "colab": {
          "base_uri": "https://localhost:8080/",
          "height": 54
        },
        "outputId": "3abc6c2c-f5dc-487a-8aa8-0ffd1fd227b3"
      },
      "source": [
        "!pip install -q praw\n",
        "\n",
        "import praw\n",
        "from collections import deque\n",
        "\n",
        "client_id = \"\" #@param {type:\"string\"}\n",
        "client_secret = \"\" #@param {type:\"string\"}\n",
        "user_agent = \"\" #@param {type:\"string\"}\n",
        "\n",
        "reddit = praw.Reddit(\n",
        "    client_id=client_id,\n",
        "    client_secret=client_secret,\n",
        "    user_agent=user_agent)"
      ],
      "execution_count": null,
      "outputs": [
        {
          "output_type": "stream",
          "text": [
            "\u001b[K     |████████████████████████████████| 153kB 2.6MB/s \n",
            "\u001b[K     |████████████████████████████████| 204kB 11.5MB/s \n",
            "\u001b[?25h"
          ],
          "name": "stdout"
        }
      ]
    },
    {
      "cell_type": "code",
      "metadata": {
        "id": "Y6wGe8WglK8w"
      },
      "source": [
        "def traverse_comments(comments, *, breadth_first=False):\n",
        "    queue = deque(comments[:])\n",
        "    result = []\n",
        "    while queue:\n",
        "        e = queue.pop()\n",
        "        if isinstance(e, praw.models.MoreComments):\n",
        "            if breadth_first:\n",
        "                queue.extendleft(e.comments())\n",
        "            else:\n",
        "                queue.extend(e.comments())\n",
        "        else:\n",
        "            if breadth_first:\n",
        "                queue.extendleft(e.replies)\n",
        "            else:\n",
        "                queue.extend(e.replies)\n",
        "            result.append(e.body)\n",
        "    return result"
      ],
      "execution_count": null,
      "outputs": []
    },
    {
      "cell_type": "markdown",
      "metadata": {
        "id": "OKBZboFXiyaa"
      },
      "source": [
        "**Supply a subreddit url**\n",
        "\n",
        "Preferably an archived one, so the comments will not change during operation"
      ]
    },
    {
      "cell_type": "code",
      "metadata": {
        "id": "P7LJFb1KiyeJ"
      },
      "source": [
        "submission_url = \"https://www.reddit.com/r/aww/comments/fo6q11/his_favorite_place_is_his_bed/\" #@param {type:\"string\"}"
      ],
      "execution_count": null,
      "outputs": []
    },
    {
      "cell_type": "markdown",
      "metadata": {
        "id": "D7hqOieGZ4I8"
      },
      "source": [
        "**Our depth-first traversal**"
      ]
    },
    {
      "cell_type": "code",
      "metadata": {
        "id": "-iLW1KsnaIPN",
        "colab": {
          "base_uri": "https://localhost:8080/",
          "height": 54
        },
        "outputId": "d07ed99d-fca5-453e-9b4f-3d4a9e768a12"
      },
      "source": [
        "%%time\n",
        "comments_depthfirst = set(traverse_comments(\n",
        "    reddit.submission(url=submission_url).comments))"
      ],
      "execution_count": null,
      "outputs": [
        {
          "output_type": "stream",
          "text": [
            "CPU times: user 610 ms, sys: 21.1 ms, total: 631 ms\n",
            "Wall time: 1min 10s\n"
          ],
          "name": "stdout"
        }
      ]
    },
    {
      "cell_type": "markdown",
      "metadata": {
        "id": "UFacbGDkZ6lV"
      },
      "source": [
        "**Our breadth-first traversal**"
      ]
    },
    {
      "cell_type": "code",
      "metadata": {
        "id": "Nar5wXD-Z9fk",
        "colab": {
          "base_uri": "https://localhost:8080/",
          "height": 54
        },
        "outputId": "f1bef1d5-0b0e-4661-ed14-03ac1809a84e"
      },
      "source": [
        "%%time\n",
        "comments_breadthfirst = set(traverse_comments(\n",
        "    reddit.submission(url=submission_url).comments, breadth_first=True))"
      ],
      "execution_count": null,
      "outputs": [
        {
          "output_type": "stream",
          "text": [
            "CPU times: user 588 ms, sys: 26.4 ms, total: 614 ms\n",
            "Wall time: 1min 1s\n"
          ],
          "name": "stdout"
        }
      ]
    },
    {
      "cell_type": "markdown",
      "metadata": {
        "id": "A5dMpgVB8geQ"
      },
      "source": [
        "**Built-in breadth-first traversal**"
      ]
    },
    {
      "cell_type": "code",
      "metadata": {
        "id": "SChD-dGMaI7M",
        "colab": {
          "base_uri": "https://localhost:8080/",
          "height": 54
        },
        "outputId": "6fee97dc-595a-40b6-d183-b838e93735b6"
      },
      "source": [
        "%%time\n",
        "submission = reddit.submission(url=submission_url)\n",
        "submission.comments.replace_more(limit=None)\n",
        "comments_builtin = set([comment.body for comment in submission.comments.list()])"
      ],
      "execution_count": null,
      "outputs": [
        {
          "output_type": "stream",
          "text": [
            "CPU times: user 666 ms, sys: 22.9 ms, total: 688 ms\n",
            "Wall time: 1min 7s\n"
          ],
          "name": "stdout"
        }
      ]
    },
    {
      "cell_type": "markdown",
      "metadata": {
        "id": "pylhuvat9nTo"
      },
      "source": [
        "**Result validation**"
      ]
    },
    {
      "cell_type": "code",
      "metadata": {
        "id": "ZnJIvTgp7BjH",
        "colab": {
          "base_uri": "https://localhost:8080/",
          "height": 35
        },
        "outputId": "7816d97d-f9e2-466f-f37a-64f5eb8d744d"
      },
      "source": [
        "print(\"Results are equivalent:\",\n",
        "      comments_depthfirst ==\n",
        "      comments_breadthfirst ==\n",
        "      comments_builtin)"
      ],
      "execution_count": null,
      "outputs": [
        {
          "output_type": "stream",
          "text": [
            "Results are equivalent: True\n"
          ],
          "name": "stdout"
        }
      ]
    },
    {
      "cell_type": "markdown",
      "metadata": {
        "id": "UIOnwZvQbnqH"
      },
      "source": [
        "# References"
      ]
    },
    {
      "cell_type": "markdown",
      "metadata": {
        "id": "7fUFreHgb_w3"
      },
      "source": [
        "*   https://praw.readthedocs.io/en/latest/tutorials/comments.html\n",
        "*   https://en.wikipedia.org/wiki/Depth-first_search\n",
        "*   https://en.wikipedia.org/wiki/Breadth-first_search"
      ]
    }
  ]
}