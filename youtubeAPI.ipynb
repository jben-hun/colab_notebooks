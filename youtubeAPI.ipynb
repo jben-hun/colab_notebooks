{
  "nbformat": 4,
  "nbformat_minor": 0,
  "metadata": {
    "colab": {
      "name": "youtubeAPI.ipynb",
      "provenance": [],
      "collapsed_sections": [],
      "authorship_tag": "ABX9TyPC34BRNm7tdOTPbNKKGqKq",
      "include_colab_link": true
    },
    "kernelspec": {
      "name": "python3",
      "display_name": "Python 3"
    }
  },
  "cells": [
    {
      "cell_type": "markdown",
      "metadata": {
        "id": "view-in-github",
        "colab_type": "text"
      },
      "source": [
        "<a href=\"https://colab.research.google.com/github/jben-hun/colab_notebooks/blob/master/youtubeAPI.ipynb\" target=\"_parent\"><img src=\"https://colab.research.google.com/assets/colab-badge.svg\" alt=\"Open In Colab\"/></a>"
      ]
    },
    {
      "cell_type": "markdown",
      "metadata": {
        "id": "ar6qklSGTVdq"
      },
      "source": [
        "**Calculate the total duration of a youtube playlist by getting all video ids it contains, and accumulating their durations**"
      ]
    },
    {
      "cell_type": "markdown",
      "metadata": {
        "id": "MVl-qpLdRjKN"
      },
      "source": [
        "Refer to the link below to learn how to enable the API. Note that at the time of writing this notebook, the code examples in the official guide use the OAuth 2.0 method to authenticate, while this notebook simply uses an API key (option \"a\" in the guide). OAuth 2.0 is only required when accessing account related content.\r\n",
        "\r\n",
        "*   Official API intro guide: https://developers.google.com/youtube/v3/quickstart/python"
      ]
    },
    {
      "cell_type": "code",
      "metadata": {
        "id": "p5tOUPQH17vw"
      },
      "source": [
        "import getpass\r\n",
        "import googleapiclient.discovery\r\n",
        "import numpy as np\r\n",
        "import pandas as pd\r\n",
        "from datetime import timedelta"
      ],
      "execution_count": 1,
      "outputs": []
    },
    {
      "cell_type": "code",
      "metadata": {
        "colab": {
          "base_uri": "https://localhost:8080/"
        },
        "id": "TOzrLv0i-7ST",
        "outputId": "47cec05a-8607-4a08-eb1f-a09791884ef2"
      },
      "source": [
        "api_key = getpass.getpass(\"Enter your API key: \")\r\n",
        "youtube = googleapiclient.discovery.build(\"youtube\", \"v3\",\r\n",
        "                                          developerKey=api_key)"
      ],
      "execution_count": 2,
      "outputs": [
        {
          "output_type": "stream",
          "text": [
            "Enter you API key: ··········\n"
          ],
          "name": "stdout"
        }
      ]
    },
    {
      "cell_type": "markdown",
      "metadata": {
        "id": "B3Qy75OjMpNB"
      },
      "source": [
        "**Performing the neccessary requests**\r\n",
        "\r\n",
        "Carefully specifying the \"part\" parameter of the requests is important to conserve quoatas, as it specifies which info we want in our response. Set it as narrow/concise as possible.\r\n",
        "\r\n",
        "*   https://developers.google.com/youtube/v3/getting-started#partial"
      ]
    },
    {
      "cell_type": "code",
      "metadata": {
        "colab": {
          "base_uri": "https://localhost:8080/"
        },
        "id": "2XR_NbxyNEqt",
        "outputId": "9cd9ab62-8f63-4a59-e5cb-a404cfe957a6"
      },
      "source": [
        "playlist_id = input(\"Enter a youtube playlist id: \")"
      ],
      "execution_count": 3,
      "outputs": [
        {
          "output_type": "stream",
          "text": [
            "Enter a youtube playlist id: PLGVZCDnMOq0rLLb519Ah3EntCUAAHPnfU\n"
          ],
          "name": "stdout"
        }
      ]
    },
    {
      "cell_type": "code",
      "metadata": {
        "id": "ah_PmBXGXmbE"
      },
      "source": [
        "# limit used for pagination\n",
        "page_size = 50\n",
        "\n",
        "# get video identifiers from playlist identifier (page_size at a time)\n",
        "videoIds = []\n",
        "query = dict(\n",
        "    part=\"contentDetails\", maxResults=page_size, playlistId=playlist_id)\n",
        "while True:\n",
        "  request = youtube.playlistItems().list(**query)\n",
        "  result = request.execute()\n",
        "  videoIds += [i[\"contentDetails\"][\"videoId\"] for i in result[\"items\"]]\n",
        "  if \"nextPageToken\" in result:\n",
        "    query[\"pageToken\"] = result[\"nextPageToken\"]\n",
        "  else:\n",
        "    break\n",
        "\n",
        "# get video metadata by video identifiers (page_size at a time)\n",
        "durations = []\n",
        "while videoIds:\n",
        "  idList = videoIds[:page_size]\n",
        "  videoIds = videoIds[page_size:]\n",
        "  request = youtube.videos().list(\n",
        "    part=\"contentDetails\", id=\",\".join(idList))\n",
        "  result = request.execute()\n",
        "  durations += [r[\"contentDetails\"][\"duration\"] for r in result[\"items\"]]"
      ],
      "execution_count": 4,
      "outputs": []
    },
    {
      "cell_type": "markdown",
      "metadata": {
        "id": "owl06AbSJ6Ks"
      },
      "source": [
        "**Playlist duration calculation**"
      ]
    },
    {
      "cell_type": "code",
      "metadata": {
        "colab": {
          "base_uri": "https://localhost:8080/"
        },
        "id": "eF0FA_2MJGs6",
        "outputId": "f4ecad52-69e0-45e2-ecd4-61c76d976a1c"
      },
      "source": [
        "timedeltas = pd.to_timedelta(pd.Series(durations).str.slice(start=2))\r\n",
        "print(f\"playlist: https://www.youtube.com/playlist?list={playlist_id}\\n\"\r\n",
        "      f\"videos: {len(timedeltas)}\\n\"\r\n",
        "      f\"mean_playtime: {timedeltas.mean()}\\n\"\r\n",
        "      f\"total_playtime: {timedeltas.sum()}\")"
      ],
      "execution_count": 5,
      "outputs": [
        {
          "output_type": "stream",
          "text": [
            "playlist: https://www.youtube.com/playlist?list=PLGVZCDnMOq0rLLb519Ah3EntCUAAHPnfU\n",
            "videos: 52\n",
            "mean_playtime: 0 days 00:46:44.961538461\n",
            "total_playtime: 1 days 16:30:58\n"
          ],
          "name": "stdout"
        }
      ]
    }
  ]
}