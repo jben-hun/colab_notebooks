{
  "nbformat": 4,
  "nbformat_minor": 0,
  "metadata": {
    "colab": {
      "name": "youtube_api.ipynb",
      "provenance": [],
      "authorship_tag": "ABX9TyNfE0UUDgMIeo59wVKxaSnt",
      "include_colab_link": true
    },
    "kernelspec": {
      "name": "python3",
      "display_name": "Python 3"
    }
  },
  "cells": [
    {
      "cell_type": "markdown",
      "metadata": {
        "id": "view-in-github",
        "colab_type": "text"
      },
      "source": [
        "<a href=\"https://colab.research.google.com/github/jben-hun/colab_notebooks/blob/master/youtube_api.ipynb\" target=\"_parent\"><img src=\"https://colab.research.google.com/assets/colab-badge.svg\" alt=\"Open In Colab\"/></a>"
      ]
    },
    {
      "cell_type": "markdown",
      "metadata": {
        "id": "5fLGBgKssu5x",
        "colab_type": "text"
      },
      "source": [
        "# Setup"
      ]
    },
    {
      "cell_type": "code",
      "metadata": {
        "id": "QPuutBngWgsj",
        "colab_type": "code",
        "colab": {}
      },
      "source": [
        "!pip -q install aniso8601\n",
        "\n",
        "import os\n",
        "import google_auth_oauthlib.flow\n",
        "import googleapiclient.discovery\n",
        "import googleapiclient.errors\n",
        "import pandas as pd\n",
        "from datetime import timedelta\n",
        "from aniso8601.duration import parse_duration\n",
        "from google.colab import drive\n",
        "\n",
        "PAGE_SIZE = 50\n",
        "\n",
        "drive.mount(\"/content/drive\")"
      ],
      "execution_count": null,
      "outputs": []
    },
    {
      "cell_type": "markdown",
      "metadata": {
        "id": "jkKa6ml6siXg",
        "colab_type": "text"
      },
      "source": [
        "# OAuth2 authentication"
      ]
    },
    {
      "cell_type": "code",
      "metadata": {
        "id": "qY0pfP-2dLje",
        "colab_type": "code",
        "colab": {}
      },
      "source": [
        "scopes = [\"https://www.googleapis.com/auth/youtube.readonly\"]\n",
        "\n",
        "# Disable OAuthlib's HTTPS verification when running locally.\n",
        "# *DO NOT* leave this option enabled in production.\n",
        "os.environ[\"OAUTHLIB_INSECURE_TRANSPORT\"] = \"1\"\n",
        "\n",
        "api_service_name = \"youtube\"\n",
        "api_version = \"v3\"\n",
        "client_secrets_file = \"/content/drive/My Drive/client_secret_1045491054300-fgaeppirms6uh6vbtto4jlo1fk9le2q1.apps.googleusercontent.com.json\"\n",
        "\n",
        "# Get credentials and create an API client\n",
        "flow = google_auth_oauthlib.flow.InstalledAppFlow.from_client_secrets_file(\n",
        "    client_secrets_file, scopes)\n",
        "credentials = flow.run_console()\n",
        "youtube = googleapiclient.discovery.build(\n",
        "    api_service_name, api_version, credentials=credentials)"
      ],
      "execution_count": null,
      "outputs": []
    },
    {
      "cell_type": "markdown",
      "metadata": {
        "id": "owl06AbSJ6Ks",
        "colab_type": "text"
      },
      "source": [
        "# Playlist duration calculation"
      ]
    },
    {
      "cell_type": "code",
      "metadata": {
        "id": "ah_PmBXGXmbE",
        "colab_type": "code",
        "colab": {
          "base_uri": "https://localhost:8080/",
          "height": 144
        },
        "outputId": "2172af98-2cf6-4ebf-8ee6-b7ba750b42f6"
      },
      "source": [
        "playListId = \"PLeSiDiw7cGpMgGjxs1_GW7l1x8D_4x9lj\"\n",
        "playListId = \"PLeSiDiw7cGpM6uPHJl9bIQeL2hpz-aEuC\"\n",
        "\n",
        "# get video identifiers from playlist identifier (PAGE_SIZE at a time)\n",
        "\n",
        "videoIds = []\n",
        "query = dict(\n",
        "    part=\"contentDetails\", maxResults=PAGE_SIZE, playlistId=playListId)\n",
        "while True:\n",
        "  request = youtube.playlistItems().list(**query)\n",
        "  r = request.execute()\n",
        "  videoIds += [i[\"contentDetails\"][\"videoId\"] for i in r[\"items\"]]\n",
        "  if \"nextPageToken\" in r:\n",
        "    query[\"pageToken\"] = r[\"nextPageToken\"]\n",
        "  else:\n",
        "    break\n",
        "\n",
        "# get video metadata by video identifiers (PAGE_SIZE at a time)\n",
        "\n",
        "durations = []\n",
        "while videoIds:\n",
        "  idList = videoIds[:PAGE_SIZE]\n",
        "  videoIds = videoIds[PAGE_SIZE:]\n",
        "  request = youtube.videos().list(\n",
        "    part=\"contentDetails\", id=\",\".join(idList))\n",
        "  r = request.execute()\n",
        "  durations += [i[\"contentDetails\"][\"duration\"] for i in r[\"items\"]]\n",
        "\n",
        "# compute playtime statistics\n",
        "\n",
        "seconds = tuple(parse_duration(d).total_seconds() for d in durations)\n",
        "sumSeconds = sum(seconds)\n",
        "lengthSeconds = len(seconds)\n",
        "meanSeconds = sumSeconds / lengthSeconds\n",
        "print(f\"https://www.youtube.com/playlist?list={playListId}\")\n",
        "pd.DataFrame({\n",
        "  \"\": dict(\n",
        "    videos=lengthSeconds,\n",
        "    mean_playtime=timedelta(seconds=meanSeconds),\n",
        "    total_playtime=timedelta(seconds=sumSeconds))})"
      ],
      "execution_count": null,
      "outputs": [
        {
          "output_type": "stream",
          "text": [
            "https://www.youtube.com/playlist?list=PLeSiDiw7cGpM6uPHJl9bIQeL2hpz-aEuC\n"
          ],
          "name": "stdout"
        },
        {
          "output_type": "execute_result",
          "data": {
            "text/html": [
              "<div>\n",
              "<style scoped>\n",
              "    .dataframe tbody tr th:only-of-type {\n",
              "        vertical-align: middle;\n",
              "    }\n",
              "\n",
              "    .dataframe tbody tr th {\n",
              "        vertical-align: top;\n",
              "    }\n",
              "\n",
              "    .dataframe thead th {\n",
              "        text-align: right;\n",
              "    }\n",
              "</style>\n",
              "<table border=\"1\" class=\"dataframe\">\n",
              "  <thead>\n",
              "    <tr style=\"text-align: right;\">\n",
              "      <th></th>\n",
              "      <th></th>\n",
              "    </tr>\n",
              "  </thead>\n",
              "  <tbody>\n",
              "    <tr>\n",
              "      <th>mean_playtime</th>\n",
              "      <td>1:07:07.666667</td>\n",
              "    </tr>\n",
              "    <tr>\n",
              "      <th>total_playtime</th>\n",
              "      <td>6:42:46</td>\n",
              "    </tr>\n",
              "    <tr>\n",
              "      <th>videos</th>\n",
              "      <td>6</td>\n",
              "    </tr>\n",
              "  </tbody>\n",
              "</table>\n",
              "</div>"
            ],
            "text/plain": [
              "                              \n",
              "mean_playtime   1:07:07.666667\n",
              "total_playtime         6:42:46\n",
              "videos                       6"
            ]
          },
          "metadata": {
            "tags": []
          },
          "execution_count": 3
        }
      ]
    }
  ]
}
